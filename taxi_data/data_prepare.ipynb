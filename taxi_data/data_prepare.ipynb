{
 "cells": [
  {
   "cell_type": "code",
   "execution_count": 1,
   "id": "c0915b1b",
   "metadata": {},
   "outputs": [
    {
     "name": "stdout",
     "output_type": "stream",
     "text": [
      "Requirement already satisfied: pandas in /Users/xiaojiesun/opt/anaconda3/lib/python3.9/site-packages (1.4.4)\n",
      "Collecting pyarrow\n",
      "  Downloading pyarrow-16.1.0-cp39-cp39-macosx_10_15_x86_64.whl (28.4 MB)\n",
      "\u001b[2K     \u001b[90m━━━━━━━━━━━━━━━━━━━━━━━━━━━━━━━━━━━━━━━━\u001b[0m \u001b[32m28.4/28.4 MB\u001b[0m \u001b[31m17.1 MB/s\u001b[0m eta \u001b[36m0:00:00\u001b[0m00:01\u001b[0m00:01\u001b[0m\n",
      "\u001b[?25hRequirement already satisfied: python-dateutil>=2.8.1 in /Users/xiaojiesun/opt/anaconda3/lib/python3.9/site-packages (from pandas) (2.8.2)\n",
      "Requirement already satisfied: pytz>=2020.1 in /Users/xiaojiesun/opt/anaconda3/lib/python3.9/site-packages (from pandas) (2022.1)\n",
      "Requirement already satisfied: numpy>=1.18.5 in /Users/xiaojiesun/opt/anaconda3/lib/python3.9/site-packages (from pandas) (1.21.5)\n",
      "Requirement already satisfied: six>=1.5 in /Users/xiaojiesun/opt/anaconda3/lib/python3.9/site-packages (from python-dateutil>=2.8.1->pandas) (1.16.0)\n",
      "Installing collected packages: pyarrow\n",
      "Successfully installed pyarrow-16.1.0\n",
      "Note: you may need to restart the kernel to use updated packages.\n"
     ]
    }
   ],
   "source": [
    "pip install pandas pyarrow\n"
   ]
  },
  {
   "cell_type": "code",
   "execution_count": 7,
   "id": "1c112c98",
   "metadata": {},
   "outputs": [
    {
     "name": "stdout",
     "output_type": "stream",
     "text": [
      "Parquet file has been converted to CSV file .\n"
     ]
    }
   ],
   "source": [
    "import pandas as pd\n",
    "\n",
    "# 读取 Parquet 文件\n",
    "file1 = 'yellow_tripdata_2020-05.parquet'\n",
    "file2 = 'green_tripdata_2020-05.parquet'\n",
    "df1 = pd.read_parquet(file1)\n",
    "df2 = pd.read_parquet(file2)\n",
    "\n",
    "# 将数据写入 CSV 文件\n",
    "\n",
    "df1.to_csv('yellow_tripdata_2020-05.csv', index=False)\n",
    "df2.to_csv('green_tripdata_2020-05.csv', index=False)\n",
    "\n",
    "\n",
    "print(f\"Parquet file has been converted to CSV file .\")\n",
    "\n"
   ]
  },
  {
   "cell_type": "code",
   "execution_count": null,
   "id": "f14ed958",
   "metadata": {},
   "outputs": [],
   "source": []
  },
  {
   "cell_type": "code",
   "execution_count": null,
   "id": "486f6937",
   "metadata": {},
   "outputs": [],
   "source": []
  },
  {
   "cell_type": "code",
   "execution_count": 18,
   "id": "0a8a4c0f",
   "metadata": {},
   "outputs": [
    {
     "name": "stdout",
     "output_type": "stream",
     "text": [
      "5:00 - 8:00\n"
     ]
    }
   ],
   "source": [
    "df3=pd.read_csv('yellow_tripdata_2020-05(sort).csv')\n",
    "df4=pd.read_csv('green_tripdata_2020-05(sort).csv')\n",
    "\n",
    "df3[259:1185].to_csv('yellow_tripdata_2020-05(5am-8am).csv', index=False)\n",
    "df4[45:281].to_csv('green_tripdata_2020-05(5am-8am).csv', index=False)\n",
    "\n",
    "print(f\"5:00 - 8:00\")"
   ]
  },
  {
   "cell_type": "code",
   "execution_count": 2,
   "id": "1c287565",
   "metadata": {},
   "outputs": [
    {
     "name": "stdout",
     "output_type": "stream",
     "text": [
      "Test file\n"
     ]
    }
   ],
   "source": [
    "import pandas as pd\n",
    "\n",
    "df3=pd.read_csv('yellow_tripdata_2020-05(5am-8am).csv')\n",
    "df4=pd.read_csv('green_tripdata_2020-05(5am-8am).csv')\n",
    "\n",
    "df3[101:125].to_csv('Test_yellow.csv', index=False)\n",
    "df4[21:29].to_csv('Test_green.csv', index=False) #6:00-6:06\n",
    "\n",
    "print(f\"Test file\")\n"
   ]
  },
  {
   "cell_type": "code",
   "execution_count": null,
   "id": "ac219696",
   "metadata": {},
   "outputs": [],
   "source": []
  },
  {
   "cell_type": "code",
   "execution_count": null,
   "id": "661a5f0f",
   "metadata": {},
   "outputs": [],
   "source": []
  }
 ],
 "metadata": {
  "kernelspec": {
   "display_name": "Python 3 (ipykernel)",
   "language": "python",
   "name": "python3"
  },
  "language_info": {
   "codemirror_mode": {
    "name": "ipython",
    "version": 3
   },
   "file_extension": ".py",
   "mimetype": "text/x-python",
   "name": "python",
   "nbconvert_exporter": "python",
   "pygments_lexer": "ipython3",
   "version": "3.9.13"
  }
 },
 "nbformat": 4,
 "nbformat_minor": 5
}
